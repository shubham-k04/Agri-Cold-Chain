{
 "cells": [
  {
   "cell_type": "code",
   "execution_count": 2,
   "id": "820ce767",
   "metadata": {
    "id": "820ce767"
   },
   "outputs": [],
   "source": [
    "import pandas as pd\n",
    "import numpy as np\n",
    "import tensorflow as tf\n",
    "import cv2"
   ]
  },
  {
   "cell_type": "code",
   "execution_count": 3,
   "id": "8fe13884",
   "metadata": {
    "id": "8fe13884"
   },
   "outputs": [],
   "source": [
    "import seaborn as sns"
   ]
  },
  {
   "cell_type": "code",
   "execution_count": 4,
   "id": "74180713",
   "metadata": {
    "id": "74180713"
   },
   "outputs": [],
   "source": [
    "df = pd.read_csv(\"data\")"
   ]
  },
  {
   "cell_type": "code",
   "execution_count": 5,
   "id": "1defd048",
   "metadata": {
    "colab": {
     "base_uri": "https://localhost:8080/",
     "height": 206
    },
    "id": "1defd048",
    "outputId": "ae6630cd-1baf-465e-a97f-8f120280e86d"
   },
   "outputs": [
    {
     "data": {
      "text/html": [
       "<div>\n",
       "<style scoped>\n",
       "    .dataframe tbody tr th:only-of-type {\n",
       "        vertical-align: middle;\n",
       "    }\n",
       "\n",
       "    .dataframe tbody tr th {\n",
       "        vertical-align: top;\n",
       "    }\n",
       "\n",
       "    .dataframe thead th {\n",
       "        text-align: right;\n",
       "    }\n",
       "</style>\n",
       "<table border=\"1\" class=\"dataframe\">\n",
       "  <thead>\n",
       "    <tr style=\"text-align: right;\">\n",
       "      <th></th>\n",
       "      <th>Sensor 1 Temp</th>\n",
       "      <th>Sensor 2 Temp</th>\n",
       "      <th>Timestep</th>\n",
       "      <th>X</th>\n",
       "      <th>Y</th>\n",
       "      <th>Z</th>\n",
       "      <th>Temp</th>\n",
       "    </tr>\n",
       "  </thead>\n",
       "  <tbody>\n",
       "    <tr>\n",
       "      <th>0</th>\n",
       "      <td>308.00354</td>\n",
       "      <td>308.003479</td>\n",
       "      <td>1</td>\n",
       "      <td>-0.620</td>\n",
       "      <td>-1.32</td>\n",
       "      <td>1.48</td>\n",
       "      <td>308.009094</td>\n",
       "    </tr>\n",
       "    <tr>\n",
       "      <th>1</th>\n",
       "      <td>308.00354</td>\n",
       "      <td>308.003479</td>\n",
       "      <td>1</td>\n",
       "      <td>-0.930</td>\n",
       "      <td>-0.92</td>\n",
       "      <td>1.48</td>\n",
       "      <td>308.009094</td>\n",
       "    </tr>\n",
       "    <tr>\n",
       "      <th>2</th>\n",
       "      <td>308.00354</td>\n",
       "      <td>308.003479</td>\n",
       "      <td>1</td>\n",
       "      <td>-0.300</td>\n",
       "      <td>-1.55</td>\n",
       "      <td>1.72</td>\n",
       "      <td>308.009094</td>\n",
       "    </tr>\n",
       "    <tr>\n",
       "      <th>3</th>\n",
       "      <td>308.00354</td>\n",
       "      <td>308.003479</td>\n",
       "      <td>1</td>\n",
       "      <td>-0.001</td>\n",
       "      <td>-0.70</td>\n",
       "      <td>1.39</td>\n",
       "      <td>308.008850</td>\n",
       "    </tr>\n",
       "    <tr>\n",
       "      <th>4</th>\n",
       "      <td>308.00354</td>\n",
       "      <td>308.003479</td>\n",
       "      <td>1</td>\n",
       "      <td>-0.720</td>\n",
       "      <td>-0.76</td>\n",
       "      <td>1.25</td>\n",
       "      <td>308.009064</td>\n",
       "    </tr>\n",
       "  </tbody>\n",
       "</table>\n",
       "</div>"
      ],
      "text/plain": [
       "   Sensor 1 Temp  Sensor 2 Temp  Timestep      X     Y     Z        Temp\n",
       "0      308.00354     308.003479         1 -0.620 -1.32  1.48  308.009094\n",
       "1      308.00354     308.003479         1 -0.930 -0.92  1.48  308.009094\n",
       "2      308.00354     308.003479         1 -0.300 -1.55  1.72  308.009094\n",
       "3      308.00354     308.003479         1 -0.001 -0.70  1.39  308.008850\n",
       "4      308.00354     308.003479         1 -0.720 -0.76  1.25  308.009064"
      ]
     },
     "execution_count": 5,
     "metadata": {},
     "output_type": "execute_result"
    }
   ],
   "source": [
    "df.head()"
   ]
  },
  {
   "cell_type": "code",
   "execution_count": 6,
   "id": "c2ae4a2a",
   "metadata": {
    "id": "c2ae4a2a"
   },
   "outputs": [],
   "source": [
    "corrmat = df.corr()"
   ]
  },
  {
   "cell_type": "code",
   "execution_count": 7,
   "id": "6756db22",
   "metadata": {
    "id": "6756db22"
   },
   "outputs": [],
   "source": [
    "top_corr_features=corrmat.index"
   ]
  },
  {
   "cell_type": "code",
   "execution_count": 8,
   "id": "11fff146",
   "metadata": {
    "colab": {
     "base_uri": "https://localhost:8080/",
     "height": 349
    },
    "id": "11fff146",
    "outputId": "8f8e6a77-c9be-41d7-9cc3-30cff32a8bf6"
   },
   "outputs": [
    {
     "data": {
      "text/plain": [
       "<AxesSubplot:>"
      ]
     },
     "execution_count": 8,
     "metadata": {},
     "output_type": "execute_result"
    },
    {
     "data": {
      "image/png": "[encoded data removed]",
      "text/plain": [
       "<Figure size 640x480 with 2 Axes>"
      ]
     },
     "metadata": {},
     "output_type": "display_data"
    }
   ],
   "source": [
    "sns.heatmap(df[top_corr_features].corr(),annot=True)"
   ]
  },
  {
   "cell_type": "code",
   "execution_count": 9,
   "id": "d3196ef4",
   "metadata": {
    "id": "d3196ef4"
   },
   "outputs": [],
   "source": [
    "#Dividing into feature and target\n",
    "features = ['Sensor 1 Temp', 'Sensor 2 Temp', 'Timestep', 'X', 'Y', 'Z']\n",
    "y = df['Temp']"
   ]
  },
  {
   "cell_type": "code",
   "execution_count": 10,
   "id": "b6ea34c5",
   "metadata": {
    "id": "b6ea34c5"
   },
   "outputs": [],
   "source": [
    "from sklearn.model_selection import train_test_split\n",
    "from sklearn.metrics import mean_absolute_error"
   ]
  },
  {
   "cell_type": "code",
   "execution_count": 11,
   "id": "c18d2413",
   "metadata": {
    "id": "c18d2413"
   },
   "outputs": [],
   "source": [
    "x = df[features]"
   ]
  },
  {
   "cell_type": "code",
   "execution_count": 12,
   "id": "09056e36",
   "metadata": {
    "colab": {
     "base_uri": "https://localhost:8080/",
     "height": 423
    },
    "id": "09056e36",
    "outputId": "c6fe8b82-3704-4170-edc5-6ab8f4a28bcd"
   },
   "outputs": [
    {
     "data": {
      "text/html": [
       "<div>\n",
       "<style scoped>\n",
       "    .dataframe tbody tr th:only-of-type {\n",
       "        vertical-align: middle;\n",
       "    }\n",
       "\n",
       "    .dataframe tbody tr th {\n",
       "        vertical-align: top;\n",
       "    }\n",
       "\n",
       "    .dataframe thead th {\n",
       "        text-align: right;\n",
       "    }\n",
       "</style>\n",
       "<table border=\"1\" class=\"dataframe\">\n",
       "  <thead>\n",
       "    <tr style=\"text-align: right;\">\n",
       "      <th></th>\n",
       "      <th>Sensor 1 Temp</th>\n",
       "      <th>Sensor 2 Temp</th>\n",
       "      <th>Timestep</th>\n",
       "      <th>X</th>\n",
       "      <th>Y</th>\n",
       "      <th>Z</th>\n",
       "    </tr>\n",
       "  </thead>\n",
       "  <tbody>\n",
       "    <tr>\n",
       "      <th>0</th>\n",
       "      <td>308.003540</td>\n",
       "      <td>308.003479</td>\n",
       "      <td>1</td>\n",
       "      <td>-0.620</td>\n",
       "      <td>-1.32</td>\n",
       "      <td>1.48</td>\n",
       "    </tr>\n",
       "    <tr>\n",
       "      <th>1</th>\n",
       "      <td>308.003540</td>\n",
       "      <td>308.003479</td>\n",
       "      <td>1</td>\n",
       "      <td>-0.930</td>\n",
       "      <td>-0.92</td>\n",
       "      <td>1.48</td>\n",
       "    </tr>\n",
       "    <tr>\n",
       "      <th>2</th>\n",
       "      <td>308.003540</td>\n",
       "      <td>308.003479</td>\n",
       "      <td>1</td>\n",
       "      <td>-0.300</td>\n",
       "      <td>-1.55</td>\n",
       "      <td>1.72</td>\n",
       "    </tr>\n",
       "    <tr>\n",
       "      <th>3</th>\n",
       "      <td>308.003540</td>\n",
       "      <td>308.003479</td>\n",
       "      <td>1</td>\n",
       "      <td>-0.001</td>\n",
       "      <td>-0.70</td>\n",
       "      <td>1.39</td>\n",
       "    </tr>\n",
       "    <tr>\n",
       "      <th>4</th>\n",
       "      <td>308.003540</td>\n",
       "      <td>308.003479</td>\n",
       "      <td>1</td>\n",
       "      <td>-0.720</td>\n",
       "      <td>-0.76</td>\n",
       "      <td>1.25</td>\n",
       "    </tr>\n",
       "    <tr>\n",
       "      <th>...</th>\n",
       "      <td>...</td>\n",
       "      <td>...</td>\n",
       "      <td>...</td>\n",
       "      <td>...</td>\n",
       "      <td>...</td>\n",
       "      <td>...</td>\n",
       "    </tr>\n",
       "    <tr>\n",
       "      <th>189373</th>\n",
       "      <td>285.617218</td>\n",
       "      <td>289.185272</td>\n",
       "      <td>6720</td>\n",
       "      <td>-0.730</td>\n",
       "      <td>-3.35</td>\n",
       "      <td>1.31</td>\n",
       "    </tr>\n",
       "    <tr>\n",
       "      <th>189374</th>\n",
       "      <td>285.617218</td>\n",
       "      <td>289.185272</td>\n",
       "      <td>6720</td>\n",
       "      <td>-0.620</td>\n",
       "      <td>-4.23</td>\n",
       "      <td>1.87</td>\n",
       "    </tr>\n",
       "    <tr>\n",
       "      <th>189375</th>\n",
       "      <td>285.617218</td>\n",
       "      <td>289.185272</td>\n",
       "      <td>6720</td>\n",
       "      <td>-1.100</td>\n",
       "      <td>-4.17</td>\n",
       "      <td>1.79</td>\n",
       "    </tr>\n",
       "    <tr>\n",
       "      <th>189376</th>\n",
       "      <td>285.617218</td>\n",
       "      <td>289.185272</td>\n",
       "      <td>6720</td>\n",
       "      <td>-1.300</td>\n",
       "      <td>-3.80</td>\n",
       "      <td>1.58</td>\n",
       "    </tr>\n",
       "    <tr>\n",
       "      <th>189377</th>\n",
       "      <td>285.617218</td>\n",
       "      <td>289.185272</td>\n",
       "      <td>6720</td>\n",
       "      <td>0.130</td>\n",
       "      <td>-3.80</td>\n",
       "      <td>1.30</td>\n",
       "    </tr>\n",
       "  </tbody>\n",
       "</table>\n",
       "<p>189378 rows × 6 columns</p>\n",
       "</div>"
      ],
      "text/plain": [
       "        Sensor 1 Temp  Sensor 2 Temp  Timestep      X     Y     Z\n",
       "0          308.003540     308.003479         1 -0.620 -1.32  1.48\n",
       "1          308.003540     308.003479         1 -0.930 -0.92  1.48\n",
       "2          308.003540     308.003479         1 -0.300 -1.55  1.72\n",
       "3          308.003540     308.003479         1 -0.001 -0.70  1.39\n",
       "4          308.003540     308.003479         1 -0.720 -0.76  1.25\n",
       "...               ...            ...       ...    ...   ...   ...\n",
       "189373     285.617218     289.185272      6720 -0.730 -3.35  1.31\n",
       "189374     285.617218     289.185272      6720 -0.620 -4.23  1.87\n",
       "189375     285.617218     289.185272      6720 -1.100 -4.17  1.79\n",
       "189376     285.617218     289.185272      6720 -1.300 -3.80  1.58\n",
       "189377     285.617218     289.185272      6720  0.130 -3.80  1.30\n",
       "\n",
       "[189378 rows x 6 columns]"
      ]
     },
     "execution_count": 12,
     "metadata": {},
     "output_type": "execute_result"
    }
   ],
   "source": [
    "x"
   ]
  },
  {
   "cell_type": "code",
   "execution_count": 13,
   "id": "ce81d459",
   "metadata": {
    "colab": {
     "base_uri": "https://localhost:8080/"
    },
    "id": "ce81d459",
    "outputId": "a09f6964-400b-4880-901b-5bcff4e2cb0c"
   },
   "outputs": [
    {
     "data": {
      "text/plain": [
       "0         308.009094\n",
       "1         308.009094\n",
       "2         308.009094\n",
       "3         308.008850\n",
       "4         308.009064\n",
       "             ...    \n",
       "189373    285.797241\n",
       "189374    290.172668\n",
       "189375    289.185272\n",
       "189376    289.218384\n",
       "189377    282.999908\n",
       "Name: Temp, Length: 189378, dtype: float64"
      ]
     },
     "execution_count": 13,
     "metadata": {},
     "output_type": "execute_result"
    }
   ],
   "source": [
    "y"
   ]
  },
  {
   "cell_type": "code",
   "execution_count": 14,
   "id": "--yz3IbEi1W4",
   "metadata": {
    "id": "--yz3IbEi1W4"
   },
   "outputs": [],
   "source": [
    "x_train, x_test, y_train, y_test = train_test_split(x,y)"
   ]
  },
  {
   "cell_type": "code",
   "execution_count": 15,
   "id": "6ZUCKlrki9PA",
   "metadata": {
    "colab": {
     "base_uri": "https://localhost:8080/",
     "height": 423
    },
    "id": "6ZUCKlrki9PA",
    "outputId": "fb25fd47-1b27-4a56-987c-b9f7192fdb9b"
   },
   "outputs": [
    {
     "data": {
      "text/html": [
       "<div>\n",
       "<style scoped>\n",
       "    .dataframe tbody tr th:only-of-type {\n",
       "        vertical-align: middle;\n",
       "    }\n",
       "\n",
       "    .dataframe tbody tr th {\n",
       "        vertical-align: top;\n",
       "    }\n",
       "\n",
       "    .dataframe thead th {\n",
       "        text-align: right;\n",
       "    }\n",
       "</style>\n",
       "<table border=\"1\" class=\"dataframe\">\n",
       "  <thead>\n",
       "    <tr style=\"text-align: right;\">\n",
       "      <th></th>\n",
       "      <th>Sensor 1 Temp</th>\n",
       "      <th>Sensor 2 Temp</th>\n",
       "      <th>Timestep</th>\n",
       "      <th>X</th>\n",
       "      <th>Y</th>\n",
       "      <th>Z</th>\n",
       "    </tr>\n",
       "  </thead>\n",
       "  <tbody>\n",
       "    <tr>\n",
       "      <th>95048</th>\n",
       "      <td>285.617218</td>\n",
       "      <td>298.242493</td>\n",
       "      <td>2427</td>\n",
       "      <td>0.10</td>\n",
       "      <td>-0.75</td>\n",
       "      <td>1.78</td>\n",
       "    </tr>\n",
       "    <tr>\n",
       "      <th>174988</th>\n",
       "      <td>285.617218</td>\n",
       "      <td>289.352264</td>\n",
       "      <td>5921</td>\n",
       "      <td>-0.92</td>\n",
       "      <td>-3.60</td>\n",
       "      <td>1.55</td>\n",
       "    </tr>\n",
       "    <tr>\n",
       "      <th>123330</th>\n",
       "      <td>285.617218</td>\n",
       "      <td>292.713043</td>\n",
       "      <td>3474</td>\n",
       "      <td>-0.62</td>\n",
       "      <td>0.55</td>\n",
       "      <td>0.80</td>\n",
       "    </tr>\n",
       "    <tr>\n",
       "      <th>92099</th>\n",
       "      <td>285.617218</td>\n",
       "      <td>299.059204</td>\n",
       "      <td>2318</td>\n",
       "      <td>-0.30</td>\n",
       "      <td>-1.55</td>\n",
       "      <td>1.72</td>\n",
       "    </tr>\n",
       "    <tr>\n",
       "      <th>33178</th>\n",
       "      <td>291.531769</td>\n",
       "      <td>310.447479</td>\n",
       "      <td>738</td>\n",
       "      <td>-0.73</td>\n",
       "      <td>-3.35</td>\n",
       "      <td>1.31</td>\n",
       "    </tr>\n",
       "    <tr>\n",
       "      <th>...</th>\n",
       "      <td>...</td>\n",
       "      <td>...</td>\n",
       "      <td>...</td>\n",
       "      <td>...</td>\n",
       "      <td>...</td>\n",
       "      <td>...</td>\n",
       "    </tr>\n",
       "    <tr>\n",
       "      <th>103376</th>\n",
       "      <td>285.617218</td>\n",
       "      <td>296.189819</td>\n",
       "      <td>2735</td>\n",
       "      <td>-0.62</td>\n",
       "      <td>0.08</td>\n",
       "      <td>0.56</td>\n",
       "    </tr>\n",
       "    <tr>\n",
       "      <th>91404</th>\n",
       "      <td>285.617218</td>\n",
       "      <td>299.260986</td>\n",
       "      <td>2292</td>\n",
       "      <td>-0.62</td>\n",
       "      <td>-3.90</td>\n",
       "      <td>1.48</td>\n",
       "    </tr>\n",
       "    <tr>\n",
       "      <th>112673</th>\n",
       "      <td>285.617218</td>\n",
       "      <td>294.327362</td>\n",
       "      <td>3080</td>\n",
       "      <td>-0.30</td>\n",
       "      <td>-1.55</td>\n",
       "      <td>1.72</td>\n",
       "    </tr>\n",
       "    <tr>\n",
       "      <th>35007</th>\n",
       "      <td>290.789429</td>\n",
       "      <td>310.354584</td>\n",
       "      <td>778</td>\n",
       "      <td>-1.20</td>\n",
       "      <td>-3.10</td>\n",
       "      <td>0.15</td>\n",
       "    </tr>\n",
       "    <tr>\n",
       "      <th>37926</th>\n",
       "      <td>289.722778</td>\n",
       "      <td>310.028320</td>\n",
       "      <td>843</td>\n",
       "      <td>-0.62</td>\n",
       "      <td>-3.02</td>\n",
       "      <td>0.48</td>\n",
       "    </tr>\n",
       "  </tbody>\n",
       "</table>\n",
       "<p>47345 rows × 6 columns</p>\n",
       "</div>"
      ],
      "text/plain": [
       "        Sensor 1 Temp  Sensor 2 Temp  Timestep     X     Y     Z\n",
       "95048      285.617218     298.242493      2427  0.10 -0.75  1.78\n",
       "174988     285.617218     289.352264      5921 -0.92 -3.60  1.55\n",
       "123330     285.617218     292.713043      3474 -0.62  0.55  0.80\n",
       "92099      285.617218     299.059204      2318 -0.30 -1.55  1.72\n",
       "33178      291.531769     310.447479       738 -0.73 -3.35  1.31\n",
       "...               ...            ...       ...   ...   ...   ...\n",
       "103376     285.617218     296.189819      2735 -0.62  0.08  0.56\n",
       "91404      285.617218     299.260986      2292 -0.62 -3.90  1.48\n",
       "112673     285.617218     294.327362      3080 -0.30 -1.55  1.72\n",
       "35007      290.789429     310.354584       778 -1.20 -3.10  0.15\n",
       "37926      289.722778     310.028320       843 -0.62 -3.02  0.48\n",
       "\n",
       "[47345 rows x 6 columns]"
      ]
     },
     "execution_count": 15,
     "metadata": {},
     "output_type": "execute_result"
    }
   ],
   "source": [
    "x_test"
   ]
  },
  {
   "cell_type": "code",
   "execution_count": 16,
   "id": "855a7ae6",
   "metadata": {
    "id": "855a7ae6"
   },
   "outputs": [],
   "source": [
    "from xgboost import XGBRegressor"
   ]
  },
  {
   "cell_type": "code",
   "execution_count": 17,
   "id": "5b5de109",
   "metadata": {
    "id": "5b5de109"
   },
   "outputs": [],
   "source": [
    "xgmodel = XGBRegressor()"
   ]
  },
  {
   "cell_type": "code",
   "execution_count": 18,
   "id": "da72c888",
   "metadata": {
    "colab": {
     "base_uri": "https://localhost:8080/",
     "height": 248
    },
    "id": "da72c888",
    "outputId": "916d3599-9b80-4908-a8e5-7f370d3e37e1"
   },
   "outputs": [
    {
     "data": {
      "text/plain": [
       "XGBRegressor(base_score=None, booster=None, callbacks=None,\n",
       "             colsample_bylevel=None, colsample_bynode=None,\n",
       "             colsample_bytree=None, early_stopping_rounds=None,\n",
       "             enable_categorical=False, eval_metric=None, feature_types=None,\n",
       "             gamma=None, gpu_id=None, grow_policy=None, importance_type=None,\n",
       "             interaction_constraints=None, learning_rate=None, max_bin=None,\n",
       "             max_cat_threshold=None, max_cat_to_onehot=None,\n",
       "             max_delta_step=None, max_depth=None, max_leaves=None,\n",
       "             min_child_weight=None, missing=nan, monotone_constraints=None,\n",
       "             n_estimators=100, n_jobs=None, num_parallel_tree=None,\n",
       "             predictor=None, random_state=None, ...)"
      ]
     },
     "execution_count": 18,
     "metadata": {},
     "output_type": "execute_result"
    }
   ],
   "source": [
    "xgmodel.fit(x_train,y_train)"
   ]
  },
  {
   "cell_type": "code",
   "execution_count": 19,
   "id": "C7tilUgGjHLC",
   "metadata": {
    "id": "C7tilUgGjHLC"
   },
   "outputs": [],
   "source": [
    "pred = xgmodel.predict(x_test)"
   ]
  },
  {
   "cell_type": "code",
   "execution_count": 20,
   "id": "iSLdXNaEjMC9",
   "metadata": {
    "colab": {
     "base_uri": "https://localhost:8080/"
    },
    "id": "iSLdXNaEjMC9",
    "outputId": "48dce414-451a-4b2f-9f08-29f405bff8c1"
   },
   "outputs": [
    {
     "data": {
      "text/plain": [
       "0.11968277703243814"
      ]
     },
     "execution_count": 20,
     "metadata": {},
     "output_type": "execute_result"
    }
   ],
   "source": [
    "mean_absolute_error(y_test,pred)"
   ]
  },
  {
   "cell_type": "code",
   "execution_count": 21,
   "id": "VbYO7r2ijTBV",
   "metadata": {
    "colab": {
     "base_uri": "https://localhost:8080/"
    },
    "id": "VbYO7r2ijTBV",
    "outputId": "4097b16b-6547-4f35-f73b-22f8e0158993"
   },
   "outputs": [
    {
     "data": {
      "text/plain": [
       "282.9998474"
      ]
     },
     "execution_count": 21,
     "metadata": {},
     "output_type": "execute_result"
    }
   ],
   "source": [
    "np.min(np.array(y))"
   ]
  },
  {
   "cell_type": "markdown",
   "id": "Goy3O_vekiyF",
   "metadata": {
    "id": "Goy3O_vekiyF"
   },
   "source": [
    "###Predicting on Random Data"
   ]
  },
  {
   "cell_type": "code",
   "execution_count": 22,
   "id": "WOO00OQBkl0H",
   "metadata": {
    "id": "WOO00OQBkl0H"
   },
   "outputs": [],
   "source": [
    "random_data = pd.read_csv('test.csv')"
   ]
  },
  {
   "cell_type": "code",
   "execution_count": 23,
   "id": "Ifw_rrgUktML",
   "metadata": {
    "colab": {
     "base_uri": "https://localhost:8080/",
     "height": 206
    },
    "id": "Ifw_rrgUktML",
    "outputId": "2f8b2c27-a614-42fe-9c0a-7bf166f07a8c"
   },
   "outputs": [
    {
     "data": {
      "text/html": [
       "<div>\n",
       "<style scoped>\n",
       "    .dataframe tbody tr th:only-of-type {\n",
       "        vertical-align: middle;\n",
       "    }\n",
       "\n",
       "    .dataframe tbody tr th {\n",
       "        vertical-align: top;\n",
       "    }\n",
       "\n",
       "    .dataframe thead th {\n",
       "        text-align: right;\n",
       "    }\n",
       "</style>\n",
       "<table border=\"1\" class=\"dataframe\">\n",
       "  <thead>\n",
       "    <tr style=\"text-align: right;\">\n",
       "      <th></th>\n",
       "      <th>Sensor 1 Temp</th>\n",
       "      <th>Sensor 2 Temp</th>\n",
       "      <th>Timestep</th>\n",
       "      <th>X</th>\n",
       "      <th>Y</th>\n",
       "      <th>Z</th>\n",
       "    </tr>\n",
       "  </thead>\n",
       "  <tbody>\n",
       "    <tr>\n",
       "      <th>0</th>\n",
       "      <td>298.374</td>\n",
       "      <td>298.86</td>\n",
       "      <td>1</td>\n",
       "      <td>1.134</td>\n",
       "      <td>-4.1148</td>\n",
       "      <td>0.043414</td>\n",
       "    </tr>\n",
       "    <tr>\n",
       "      <th>1</th>\n",
       "      <td>298.374</td>\n",
       "      <td>298.86</td>\n",
       "      <td>1</td>\n",
       "      <td>1.134</td>\n",
       "      <td>-4.1148</td>\n",
       "      <td>0.018943</td>\n",
       "    </tr>\n",
       "    <tr>\n",
       "      <th>2</th>\n",
       "      <td>298.374</td>\n",
       "      <td>298.86</td>\n",
       "      <td>1</td>\n",
       "      <td>1.134</td>\n",
       "      <td>-4.1148</td>\n",
       "      <td>0.074432</td>\n",
       "    </tr>\n",
       "    <tr>\n",
       "      <th>3</th>\n",
       "      <td>298.374</td>\n",
       "      <td>298.86</td>\n",
       "      <td>1</td>\n",
       "      <td>1.134</td>\n",
       "      <td>-4.1148</td>\n",
       "      <td>0.089921</td>\n",
       "    </tr>\n",
       "    <tr>\n",
       "      <th>4</th>\n",
       "      <td>298.374</td>\n",
       "      <td>298.86</td>\n",
       "      <td>1</td>\n",
       "      <td>1.134</td>\n",
       "      <td>-4.1148</td>\n",
       "      <td>0.101410</td>\n",
       "    </tr>\n",
       "  </tbody>\n",
       "</table>\n",
       "</div>"
      ],
      "text/plain": [
       "   Sensor 1 Temp  Sensor 2 Temp  Timestep      X       Y         Z\n",
       "0        298.374         298.86         1  1.134 -4.1148  0.043414\n",
       "1        298.374         298.86         1  1.134 -4.1148  0.018943\n",
       "2        298.374         298.86         1  1.134 -4.1148  0.074432\n",
       "3        298.374         298.86         1  1.134 -4.1148  0.089921\n",
       "4        298.374         298.86         1  1.134 -4.1148  0.101410"
      ]
     },
     "execution_count": 23,
     "metadata": {},
     "output_type": "execute_result"
    }
   ],
   "source": [
    "random_data.head()"
   ]
  },
  {
   "cell_type": "code",
   "execution_count": 24,
   "id": "OkilRDRBkxPG",
   "metadata": {
    "colab": {
     "base_uri": "https://localhost:8080/"
    },
    "id": "OkilRDRBkxPG",
    "outputId": "5f2be6ea-e833-4746-adc5-8594d7abaaab"
   },
   "outputs": [
    {
     "data": {
      "text/plain": [
       "16384"
      ]
     },
     "execution_count": 24,
     "metadata": {},
     "output_type": "execute_result"
    }
   ],
   "source": [
    "len(random_data)"
   ]
  },
  {
   "cell_type": "code",
   "execution_count": 25,
   "id": "_YXay255kxJl",
   "metadata": {
    "id": "_YXay255kxJl"
   },
   "outputs": [],
   "source": [
    "temp_pred = xgmodel.predict(random_data)"
   ]
  },
  {
   "cell_type": "code",
   "execution_count": 26,
   "id": "r8rLQkfrkxHV",
   "metadata": {
    "id": "r8rLQkfrkxHV"
   },
   "outputs": [],
   "source": [
    "random_data['Temp'] = temp_pred"
   ]
  },
  {
   "cell_type": "markdown",
   "id": "829ea12f",
   "metadata": {
    "colab": {
     "base_uri": "https://localhost:8080/",
     "height": 423
    },
    "id": "U5FcKNvUkxE8",
    "outputId": "9c8990f9-4731-4daa-d8a0-c7d7334ceeef"
   },
   "source": [
    "###### random_data"
   ]
  },
  {
   "cell_type": "code",
   "execution_count": 28,
   "id": "fNMcDZ4wkw-f",
   "metadata": {
    "id": "fNMcDZ4wkw-f"
   },
   "outputs": [],
   "source": [
    "random_data.to_csv('random_pred.csv')"
   ]
  },
  {
   "cell_type": "code",
   "execution_count": 29,
   "id": "fItC7W6Tkwyc",
   "metadata": {
    "colab": {
     "base_uri": "https://localhost:8080/"
    },
    "id": "fItC7W6Tkwyc",
    "outputId": "fe4868e8-5eea-4083-d18c-0e35d23da588"
   },
   "outputs": [
    {
     "data": {
      "text/plain": [
       "array([301.8333 , 301.84216, 301.82837, ..., 299.34262, 299.34262,\n",
       "       299.34262], dtype=float32)"
      ]
     },
     "execution_count": 29,
     "metadata": {},
     "output_type": "execute_result"
    }
   ],
   "source": [
    "temp_pred"
   ]
  },
  {
   "cell_type": "code",
   "execution_count": 30,
   "id": "6454d135",
   "metadata": {
    "id": "6454d135"
   },
   "outputs": [],
   "source": [
    "import matplotlib.pyplot as plt\n",
    "# plt.imshow(y)"
   ]
  },
  {
   "cell_type": "code",
   "execution_count": 31,
   "id": "40jrwQbnNWtQ",
   "metadata": {
    "id": "40jrwQbnNWtQ"
   },
   "outputs": [],
   "source": [
    "x1 = random_data['Y']\n",
    "x2 = random_data['Z']"
   ]
  },
  {
   "cell_type": "code",
   "execution_count": 32,
   "id": "ZV6rFkRlNjl4",
   "metadata": {
    "id": "ZV6rFkRlNjl4"
   },
   "outputs": [],
   "source": [
    "f = random_data['Temp']"
   ]
  },
  {
   "cell_type": "code",
   "execution_count": 33,
   "id": "YY7hqscSOYcC",
   "metadata": {
    "id": "YY7hqscSOYcC"
   },
   "outputs": [],
   "source": [
    "f = np.array(f,dtype=float)"
   ]
  },
  {
   "cell_type": "code",
   "execution_count": 34,
   "id": "mWCvAHqgOix6",
   "metadata": {
    "colab": {
     "base_uri": "https://localhost:8080/"
    },
    "id": "mWCvAHqgOix6",
    "outputId": "abbf57ae-72ab-4019-e265-691705a3e2c1"
   },
   "outputs": [
    {
     "data": {
      "text/plain": [
       "(16384,)"
      ]
     },
     "execution_count": 34,
     "metadata": {},
     "output_type": "execute_result"
    }
   ],
   "source": [
    "f.shape"
   ]
  },
  {
   "cell_type": "code",
   "execution_count": 35,
   "id": "lGW_fJ48OmZw",
   "metadata": {
    "colab": {
     "base_uri": "https://localhost:8080/",
     "height": 165
    },
    "id": "lGW_fJ48OmZw",
    "outputId": "55985c3d-2dee-4265-ce63-a476919a89e5"
   },
   "outputs": [],
   "source": [
    "f=f.reshape(128,128)"
   ]
  },
  {
   "cell_type": "code",
   "execution_count": 36,
   "id": "47d6ee76",
   "metadata": {},
   "outputs": [
    {
     "data": {
      "text/plain": [
       "(128, 128)"
      ]
     },
     "execution_count": 36,
     "metadata": {},
     "output_type": "execute_result"
    }
   ],
   "source": [
    "f.shape"
   ]
  },
  {
   "cell_type": "code",
   "execution_count": 37,
   "id": "db42e8af",
   "metadata": {
    "colab": {
     "base_uri": "https://localhost:8080/",
     "height": 632
    },
    "id": "db42e8af",
    "outputId": "a39ea930-10b0-4948-dbf8-0be03355689b"
   },
   "outputs": [
    {
     "data": {
      "image/png": "[encoded data removed]",
      "text/plain": [
       "<Figure size 640x480 with 2 Axes>"
      ]
     },
     "metadata": {},
     "output_type": "display_data"
    }
   ],
   "source": [
    "\n",
    "# Create a color map\n",
    "cmap = plt.get_cmap('autumn')\n",
    "\n",
    "# Create a figure and axis object\n",
    "fig, ax = plt.subplots()\n",
    "\n",
    "# Plot the temperature data with the color map\n",
    "im = ax.imshow(f, cmap=cmap)\n",
    "\n",
    "# Add a color bar\n",
    "cbar = ax.figure.colorbar(im, ax=ax)\n",
    "\n",
    "# Set the axis labels\n",
    "ax.set_xlabel('X-axis')\n",
    "ax.set_ylabel('Y-axis')\n",
    "\n",
    "# Set the title\n",
    "ax.set_title('Temperature Map')\n",
    "\n",
    "# Show the plot\n",
    "plt.show()"
   ]
  },
  {
   "cell_type": "code",
   "execution_count": null,
   "id": "1d9997af",
   "metadata": {
    "id": "1d9997af",
    "outputId": "8c96723d-ca66-41d3-e240-4fdb61fe1043"
   },
   "outputs": [],
   "source": []
  },
  {
   "cell_type": "code",
   "execution_count": null,
   "id": "4aebc990",
   "metadata": {
    "id": "4aebc990",
    "outputId": "08592a18-049a-4c1b-ffc3-4f3e9d315165"
   },
   "outputs": [],
   "source": [
    "\n",
    "\n"
   ]
  },
  {
   "cell_type": "code",
   "execution_count": null,
   "id": "251ff99b",
   "metadata": {
    "id": "251ff99b",
    "outputId": "43d204d6-1357-4831-c108-88e45a1c6391"
   },
   "outputs": [],
   "source": []
  },
  {
   "cell_type": "code",
   "execution_count": null,
   "id": "2ce0c60c",
   "metadata": {
    "id": "2ce0c60c"
   },
   "outputs": [],
   "source": []
  },
  {
   "cell_type": "code",
   "execution_count": null,
   "id": "7b564a5a",
   "metadata": {
    "id": "7b564a5a"
   },
   "outputs": [],
   "source": []
  }
 ],
 "metadata": {
  "colab": {
   "provenance": []
  },
  "kernelspec": {
   "display_name": "Python 3 (ipykernel)",
   "language": "python",
   "name": "python3"
  },
  "language_info": {
   "codemirror_mode": {
    "name": "ipython",
    "version": 3
   },
   "file_extension": ".py",
   "mimetype": "text/x-python",
   "name": "python",
   "nbconvert_exporter": "python",
   "pygments_lexer": "ipython3",
   "version": "3.9.13"
  }
 },
 "nbformat": 4,
 "nbformat_minor": 5
}
